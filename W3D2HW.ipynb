{
 "cells": [
  {
   "cell_type": "markdown",
   "metadata": {},
   "source": [
    "#### Exercise 1 - Class Inheritance"
   ]
  },
  {
   "cell_type": "markdown",
   "metadata": {},
   "source": [
    "Create an Employee class that sets an employee's first name, last name, job title, salary, and email. The Employee class should have a class attribute for the raise amount set to 5% (1.05). Create a method that will apply the raise to an employee's salary."
   ]
  },
  {
   "cell_type": "code",
   "execution_count": 16,
   "metadata": {},
   "outputs": [],
   "source": [
    "# Write the Employee Parent Class Here\n",
    "class Employee:\n",
    "    raise_amount = 0.05\n",
    "    \n",
    "    def __init__(self, firstname, lastname, jobtitle, salary, email):\n",
    "        self.firstname = firstname.capitalize()\n",
    "        self.lastname = lastname.capitalize()\n",
    "        self.jobtitle = jobtitle.title()\n",
    "        self.salary = salary\n",
    "        self.email = email\n",
    "        \n",
    "    def applyRaise(self):\n",
    "        self.salary += (self.salary * Employee.raise_amount)"
   ]
  },
  {
   "cell_type": "markdown",
   "metadata": {},
   "source": [
    "Create two more classes that inherit from the Employee class. One for Sales and one for Development. Both of these classes will have the same attributes as the Employee.<br>\n",
    "- For the Sales employees, add a phone number attribute on instantiation using the super method. \n",
    "- Create a method on the Sales class that will \"Send a Follow Up Email\". It should take in a customer name and \"send\" aka print a formatted email \"Dear *customer*, Thank you for your interest in our product. Please let me know if you have any questions. My email is *email* or my phone number is *phone number*. Thanks, *full name*\"\n",
    "- Create a method on the Development class called code that will print out \"*full name* is writing code\"."
   ]
  },
  {
   "cell_type": "code",
   "execution_count": 17,
   "metadata": {},
   "outputs": [],
   "source": [
    "# Write the Sales child Class Here\n",
    "class Sales(Employee):\n",
    "    def __init__(self, firstname, lastname, jobtitle, salary, email, phonenumber):\n",
    "        super().__init__(firstname, lastname, jobtitle, salary, email)\n",
    "        self.phonenumber = phonenumber\n",
    "        \n",
    "    def followup(self,custname):\n",
    "        print(f\"Dear {custname},\\n Thank you for your interest in our product.\\n Please let me know if you have any questions.\\n My email is {self.email} or my phone number is {self.phonenumber}.\\n Thanks,\\n {self.firstname} {self.lastname}\")\n"
   ]
  },
  {
   "cell_type": "code",
   "execution_count": 18,
   "metadata": {},
   "outputs": [],
   "source": [
    "# Write the Development child Class Here\n",
    "class Development(Employee):\n",
    "    def __init__(self, firstname, lastname, jobtitle, salary, email):\n",
    "        super().__init__(firstname, lastname, jobtitle, salary, email)\n",
    "        \n",
    "    def code(self):\n",
    "        print(f\"{self.firstname} {self.lastname} is writing code.\")\n"
   ]
  },
  {
   "cell_type": "markdown",
   "metadata": {},
   "source": [
    "- Create an instance of a Sales Employee with a salary of $50,000.\n",
    "- Send follow up emails to \"Mike O'Neil\" and \"Hannah Stern\"\n",
    "- Give the employee a raise and print the salary"
   ]
  },
  {
   "cell_type": "code",
   "execution_count": 19,
   "metadata": {},
   "outputs": [],
   "source": [
    "# Create the instance\n",
    "salesperson1 = Sales('John','Smith','Sales',50000,'123@abc.com','902-555-1234')"
   ]
  },
  {
   "cell_type": "code",
   "execution_count": 20,
   "metadata": {},
   "outputs": [
    {
     "name": "stdout",
     "output_type": "stream",
     "text": [
      "Dear Mike O'Neil,\n",
      " Thank you for your interest in our product.\n",
      " Please let me know if you have any questions.\n",
      " My email is 123@abc.com or my phone number is 902-555-1234.\n",
      " Thanks,\n",
      " John Smith\n"
     ]
    }
   ],
   "source": [
    "# Send follow up to Mike\n",
    "salesperson1.followup(\"Mike O'Neil\")"
   ]
  },
  {
   "cell_type": "code",
   "execution_count": 21,
   "metadata": {},
   "outputs": [
    {
     "name": "stdout",
     "output_type": "stream",
     "text": [
      "Dear Hannah Stern,\n",
      " Thank you for your interest in our product.\n",
      " Please let me know if you have any questions.\n",
      " My email is 123@abc.com or my phone number is 902-555-1234.\n",
      " Thanks,\n",
      " John Smith\n"
     ]
    }
   ],
   "source": [
    "# Send follow up to Hannah\n",
    "salesperson1.followup(\"Hannah Stern\")"
   ]
  },
  {
   "cell_type": "code",
   "execution_count": 22,
   "metadata": {},
   "outputs": [
    {
     "name": "stdout",
     "output_type": "stream",
     "text": [
      "New Salary: $52500.0\n"
     ]
    }
   ],
   "source": [
    "# Give the sales employee a raise\n",
    "salesperson1.applyRaise()\n",
    "print(f\"New Salary: ${round(salesperson1.salary,2)}\")"
   ]
  },
  {
   "cell_type": "markdown",
   "metadata": {},
   "source": [
    "- Create an instance of a Development Employee with a salary of $100,000\n",
    "- Write some code with this employee\n",
    "- Give the employee a raise and print the salary"
   ]
  },
  {
   "cell_type": "code",
   "execution_count": 23,
   "metadata": {},
   "outputs": [],
   "source": [
    "# Create the instance\n",
    "developer1 = Development('Jane','Smith','Developer',100000,'456@abc.com')"
   ]
  },
  {
   "cell_type": "code",
   "execution_count": 24,
   "metadata": {},
   "outputs": [
    {
     "name": "stdout",
     "output_type": "stream",
     "text": [
      "Jane Smith is writing code.\n"
     ]
    }
   ],
   "source": [
    "# Write some code (call code method)\n",
    "developer1.code()"
   ]
  },
  {
   "cell_type": "code",
   "execution_count": 25,
   "metadata": {},
   "outputs": [
    {
     "name": "stdout",
     "output_type": "stream",
     "text": [
      "New Salary: $105000.0\n"
     ]
    }
   ],
   "source": [
    "# Give the dev employee a raise\n",
    "developer1.applyRaise()\n",
    "print(f\"New Salary: ${round(developer1.salary,2)}\")"
   ]
  },
  {
   "cell_type": "markdown",
   "metadata": {},
   "source": [
    "#### Exercise 2 - Importing Modules"
   ]
  },
  {
   "cell_type": "markdown",
   "metadata": {},
   "source": [
    "In VS Code, create a module titled `geometry` and add two functions in there. One that will calculate the area of a circle given a radius. The second will find the hypotenuse of a right angle given the two sides. Import the module or the functions from the module and use it to find the answers to the below questions"
   ]
  },
  {
   "cell_type": "markdown",
   "metadata": {},
   "source": [
    "What is the area of a circle with a radius of 7cm?"
   ]
  },
  {
   "cell_type": "code",
   "execution_count": 26,
   "metadata": {},
   "outputs": [
    {
     "name": "stdout",
     "output_type": "stream",
     "text": [
      "153.94\n"
     ]
    }
   ],
   "source": [
    "import geometry as gm\n",
    "\n",
    "print(gm.areaofcircle(7))\n",
    "# ~153.94"
   ]
  },
  {
   "cell_type": "markdown",
   "metadata": {},
   "source": [
    "What is the hypotenuse of a right angle with sides of 3in and 4in?"
   ]
  },
  {
   "cell_type": "code",
   "execution_count": 27,
   "metadata": {},
   "outputs": [
    {
     "name": "stdout",
     "output_type": "stream",
     "text": [
      "5.0 inches\n"
     ]
    }
   ],
   "source": [
    "# 5 inches\n",
    "print(gm.hypotenuse(3,4))"
   ]
  },
  {
   "cell_type": "code",
   "execution_count": null,
   "metadata": {},
   "outputs": [],
   "source": []
  }
 ],
 "metadata": {
  "kernelspec": {
   "display_name": "Python 3 (ipykernel)",
   "language": "python",
   "name": "python3"
  },
  "language_info": {
   "codemirror_mode": {
    "name": "ipython",
    "version": 3
   },
   "file_extension": ".py",
   "mimetype": "text/x-python",
   "name": "python",
   "nbconvert_exporter": "python",
   "pygments_lexer": "ipython3",
   "version": "3.11.5"
  }
 },
 "nbformat": 4,
 "nbformat_minor": 4
}
